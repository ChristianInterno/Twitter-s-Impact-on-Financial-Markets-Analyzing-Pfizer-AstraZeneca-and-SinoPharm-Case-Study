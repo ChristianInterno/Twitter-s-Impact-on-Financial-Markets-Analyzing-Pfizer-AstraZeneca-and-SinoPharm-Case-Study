{
 "cells": [
  {
   "cell_type": "code",
   "execution_count": 1,
   "metadata": {},
   "outputs": [],
   "source": [
    "# Setup\n",
    "from kafka import KafkaConsumer\n",
    "import json\n",
    "from pprint import pprint\n",
    "from pymongo import MongoClient"
   ]
  },
  {
   "cell_type": "code",
   "execution_count": 2,
   "metadata": {},
   "outputs": [],
   "source": [
    "def check_tabulation_and_newline(data):\n",
    "    if type(data) == str:\n",
    "        return data.replace(\"\\t\", \" \").replace(\"\\n\", \" \")\n",
    "    else:\n",
    "        return data"
   ]
  },
  {
   "cell_type": "code",
   "execution_count": null,
   "metadata": {},
   "outputs": [],
   "source": [
    "#!/usr/bin/env python3\n",
    "# -*- coding: utf-8 -*-\n",
    "\n",
    "myclient = MongoClient('mongo', 27017, username='admin', password='DataMan2019!')\n",
    "mydb = myclient[\"PFE_scrape\"]\n",
    "mycol = mydb[\"Track_test_25p\"]\n",
    "\n",
    "# We join (create) a consumer group for dynamic partition assignment and offset commits.\n",
    "# If we run multile consumers with the same group_id only one of them will\n",
    "# consume the message.\n",
    "# Also, we pass a lambda function as value deserializer.\n",
    "# This means the message we receive will be interpreted as a JSON value\n",
    "# using the lambda function.\n",
    "consumer = KafkaConsumer(\n",
    "  bootstrap_servers=[\"kafka:9092\"],\n",
    "  auto_offset_reset=\"latest\",\n",
    "  value_deserializer=lambda v: json.loads(v.decode(\"utf-8\")))\n",
    "\n",
    "# We subscribe to a topic\n",
    "consumer.subscribe([\"pfe_scrape\"])\n",
    "\n",
    "# We \"continuously stream\" from the consumer object\n",
    "#with open(\"pfe.tsv\", \"a\") as file:\n",
    "try:\n",
    "    for msg in consumer:\n",
    "        data = msg.value\n",
    "        data = {key:check_tabulation_and_newline(data[key]) for key in data}\n",
    "        #file.write(f\"{data['Price of PFE stock']}\\n\")\n",
    "        mycol.insert_one(data)\n",
    "except:\n",
    "    print(\"An exception occurred\")\n",
    "    #pass\n",
    "\n",
    "# NOW YOU HAVE TO STOP THE CELL IF YOU ARE USING THE NOTEBOOK OR PRESS CTRL + C\n",
    "# TO STOP THE CONSUMER"
   ]
  },
  {
   "cell_type": "code",
   "execution_count": null,
   "metadata": {},
   "outputs": [],
   "source": []
  }
 ],
 "metadata": {
  "kernelspec": {
   "display_name": "Python 3",
   "language": "python",
   "name": "python3"
  },
  "language_info": {
   "codemirror_mode": {
    "name": "ipython",
    "version": 3
   },
   "file_extension": ".py",
   "mimetype": "text/x-python",
   "name": "python",
   "nbconvert_exporter": "python",
   "pygments_lexer": "ipython3",
   "version": "3.7.5"
  }
 },
 "nbformat": 4,
 "nbformat_minor": 4
}
