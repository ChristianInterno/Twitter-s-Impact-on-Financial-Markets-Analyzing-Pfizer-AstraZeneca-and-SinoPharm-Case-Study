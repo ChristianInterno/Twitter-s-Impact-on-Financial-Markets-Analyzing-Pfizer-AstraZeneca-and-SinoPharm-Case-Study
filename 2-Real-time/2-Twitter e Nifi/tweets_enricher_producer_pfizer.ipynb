{
 "cells": [
  {
   "cell_type": "code",
   "execution_count": null,
   "metadata": {},
   "outputs": [],
   "source": [
    "#!/usr/bin/env python3\n",
    "# -*- coding: utf-8 -*-\n",
    "\n",
    "import tweepy\n",
    "from kafka import KafkaConsumer\n",
    "from kafka import KafkaProducer\n",
    "from tweepy import OAuthHandler\n",
    "from tweepy.streaming import StreamListener\n",
    "from tweepy import Stream\n",
    "import json\n",
    "\n",
    "# Set consumer key, consumer secret, access token and access token secret\n",
    "# Read them from your Twitter dev page\n",
    "consumer_key = \"24Jgnez2AMO39yWzvZT5rdA8m\"\n",
    "consumer_secret = \"dcVJLFGAgg2DL9NqGZbEXdEb2nMuXJItos3jdbaaj4PMOMF1oI\"\n",
    "access_token = \"1334438191668072448-omagasI8laVHrBjVA6GTQa4hwFuvk7\"\n",
    "access_token_secret = \"FZjCnP074OCPVOs7qulXFVMN7bfUThEgPz1m0fqbg3vlb\"\n",
    "\n",
    "# Authenticate with the OAuth protocol\n",
    "# See: https://en.wikipedia.org/wiki/OAuth\n",
    "auth = OAuthHandler(consumer_key, consumer_secret)\n",
    "auth.set_access_token(access_token, access_token_secret)\n",
    "\n",
    "# Get the API object passing the authentication object\n",
    "# See http://docs.tweepy.org/en/latest/api.html to discover the available methods\n",
    "api = tweepy.API(auth)\n",
    "\n",
    "producer = KafkaProducer(\n",
    "  bootstrap_servers=[\"kafka:9092\"],\n",
    "  value_serializer=lambda v: json.dumps(v).encode(\"utf-8\"))\n",
    "\n",
    "consumer = KafkaConsumer(\n",
    "  \"pfizertweet\",\n",
    "  bootstrap_servers=[\"kafka:9092\"],\n",
    "  auto_offset_reset=\"earliest\",\n",
    "  client_id=\"jupyterlab-01\",\n",
    "  group_id=\"jupyterlab\",\n",
    "  metadata_max_age_ms=10000,\n",
    "  value_deserializer=lambda v: json.loads(v.decode(\"utf-8\")))\n",
    "\n",
    "# We \"continuously stream\" from the consumer object\n",
    "for tweet in consumer:\n",
    "  enriched_tweet = tweet.value\n",
    "  enriched_tweet['followers_ids'] = [1,2,3]\n",
    "  producer.send(topic='enriched-tweets-pfizer', value=enriched_tweet)"
   ]
  }
 ],
 "metadata": {
  "kernelspec": {
   "display_name": "Python 3",
   "language": "python",
   "name": "python3"
  },
  "language_info": {
   "codemirror_mode": {
    "name": "ipython",
    "version": 3
   },
   "file_extension": ".py",
   "mimetype": "text/x-python",
   "name": "python",
   "nbconvert_exporter": "python",
   "pygments_lexer": "ipython3",
   "version": "3.7.3"
  }
 },
 "nbformat": 4,
 "nbformat_minor": 4
}
