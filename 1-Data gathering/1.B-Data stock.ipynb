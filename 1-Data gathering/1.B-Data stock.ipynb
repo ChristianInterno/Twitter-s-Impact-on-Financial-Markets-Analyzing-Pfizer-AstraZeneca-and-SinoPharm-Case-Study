{
 "cells": [
  {
   "cell_type": "markdown",
   "metadata": {},
   "source": [
    "# Data collection\n",
    "\n",
    "Per la raccolta dati, effettuata a cadenza settimanale è stata utilizzata l'API di Yahoo Finance,(Yfinance*).\n",
    "\n",
    "I dati in seguito sono stati salvati in csv.\n",
    "\n",
    "## Riferimenti\n",
    "\n",
    "*Yfinance\n",
    "\n",
    "https://algotrading101.com/learn/yfinance-guide/\n",
    "\n",
    "https://pypi.org/project/yfinance/\n"
   ]
  },
  {
   "cell_type": "markdown",
   "metadata": {},
   "source": [
    "## Setup"
   ]
  },
  {
   "cell_type": "code",
   "execution_count": 1,
   "metadata": {},
   "outputs": [],
   "source": [
    "#pip install yfinance"
   ]
  },
  {
   "cell_type": "code",
   "execution_count": 1,
   "metadata": {},
   "outputs": [],
   "source": [
    "import yfinance as yf\n",
    "import pandas as pd\n",
    "import os"
   ]
  },
  {
   "cell_type": "markdown",
   "metadata": {},
   "source": [
    "## Set folder"
   ]
  },
  {
   "cell_type": "code",
   "execution_count": 2,
   "metadata": {},
   "outputs": [],
   "source": [
    "os.chdir(os.getcwd())\n",
    "work_folder = \"C:\\\\Users\\\\Utente\\\\Esercitazioni DataMan\\\\Dm_project\\\\Scripts\\\\DataMan_project\\\\Data stock\\\\\""
   ]
  },
  {
   "cell_type": "markdown",
   "metadata": {},
   "source": [
    "# Pfizer stocks"
   ]
  },
  {
   "cell_type": "code",
   "execution_count": 3,
   "metadata": {},
   "outputs": [
    {
     "name": "stdout",
     "output_type": "stream",
     "text": [
      "[*********************100%***********************]  1 of 1 completed\n",
      "                                Open       High        Low      Close  Volume\n",
      "Datetime                                                                     \n",
      "2021-05-13 09:30:00-04:00  39.500000  39.531601  39.500000  39.531601  109076\n",
      "2021-05-13 09:31:00-04:00  39.529999  39.560001  39.520000  39.560001    2482\n",
      "2021-05-13 09:32:00-04:00  39.570000  39.630001  39.560001  39.590000   24837\n",
      "2021-05-13 09:33:00-04:00  39.549999  39.654999  39.520000  39.650002  518342\n",
      "2021-05-13 09:34:00-04:00  39.642399  39.750000  39.642399  39.695000  132637\n",
      "...                              ...        ...        ...        ...     ...\n",
      "2021-05-21 15:55:00-04:00  40.040001  40.044998  39.990002  40.000000  468928\n",
      "2021-05-21 15:56:00-04:00  40.000000  40.005001  39.950001  39.959999  241321\n",
      "2021-05-21 15:57:00-04:00  39.955002  39.990002  39.955002  39.974998  244966\n",
      "2021-05-21 15:58:00-04:00  39.974998  39.980000  39.950001  39.959999  216200\n",
      "2021-05-21 15:59:00-04:00  39.955002  39.980000  39.910000  39.959999  788848\n",
      "\n",
      "[2723 rows x 5 columns]\n"
     ]
    }
   ],
   "source": [
    "data1 = yf.download(  # or pdr.get_data_yahoo(...\n",
    "        # tickers list or string as well\n",
    "        tickers = \"PFE\",\n",
    "\n",
    "        # use \"period\" instead of start/end\n",
    "        # valid periods: 1d,5d,1mo,3mo,6mo,1y,2y,5y,10y,ytd,max\n",
    "        # (optional, default is '1mo')\n",
    "        period = \"7d\",\n",
    "\n",
    "        # fetch data by interval (including intraday if period < 60 days)\n",
    "        # valid intervals: 1m,2m,5m,15m,30m,60m,90m,1h,1d,5d,1wk,1mo,3mo\n",
    "        # (optional, default is '1d')\n",
    "        interval = \"1m\",\n",
    "\n",
    "        # group by ticker (to access via data['SPY'])\n",
    "        # (optional, default is 'column')\n",
    "        group_by = 'ticker',\n",
    "\n",
    "        # adjust all OHLC automatically\n",
    "        # (optional, default is False)\n",
    "        auto_adjust = True,\n",
    "\n",
    "        # download pre/post regular market hours data\n",
    "        # (optional, default is False)\n",
    "        prepost = False,\n",
    "\n",
    "        # use threads for mass downloading? (True/False/Integer)\n",
    "        # (optional, default is True)\n",
    "        threads = True,\n",
    "\n",
    "        # proxy URL scheme use use when downloading?\n",
    "        # (optional, default is None)\n",
    "        proxy = None\n",
    "    )\n",
    "\n",
    "print(data1)"
   ]
  },
  {
   "cell_type": "code",
   "execution_count": 4,
   "metadata": {},
   "outputs": [
    {
     "name": "stdout",
     "output_type": "stream",
     "text": [
      "                                Open       High        Low      Close  Volume\n",
      "Datetime                                                                     \n",
      "2021-05-13 09:30:00-04:00  39.500000  39.531601  39.500000  39.531601  109076\n",
      "2021-05-13 09:31:00-04:00  39.529999  39.560001  39.520000  39.560001    2482\n",
      "2021-05-13 09:32:00-04:00  39.570000  39.630001  39.560001  39.590000   24837\n",
      "2021-05-13 09:33:00-04:00  39.549999  39.654999  39.520000  39.650002  518342\n",
      "2021-05-13 09:34:00-04:00  39.642399  39.750000  39.642399  39.695000  132637\n",
      "                                Open       High        Low      Close  Volume\n",
      "Datetime                                                                     \n",
      "2021-05-21 15:55:00-04:00  40.040001  40.044998  39.990002  40.000000  468928\n",
      "2021-05-21 15:56:00-04:00  40.000000  40.005001  39.950001  39.959999  241321\n",
      "2021-05-21 15:57:00-04:00  39.955002  39.990002  39.955002  39.974998  244966\n",
      "2021-05-21 15:58:00-04:00  39.974998  39.980000  39.950001  39.959999  216200\n",
      "2021-05-21 15:59:00-04:00  39.955002  39.980000  39.910000  39.959999  788848\n"
     ]
    }
   ],
   "source": [
    "df1 = pd.DataFrame(data1)\n",
    "print(df1.head())\n",
    "print(df1.tail())"
   ]
  },
  {
   "cell_type": "markdown",
   "metadata": {},
   "source": [
    "### Write on csv \n",
    "\n",
    "Cambiare il nome del file, per evitare sovrascrittura."
   ]
  },
  {
   "cell_type": "code",
   "execution_count": 5,
   "metadata": {},
   "outputs": [],
   "source": [
    "# Write on csv\n",
    "df1.to_csv(work_folder+'stock_PFE_9.csv')"
   ]
  },
  {
   "cell_type": "markdown",
   "metadata": {},
   "source": [
    "# Sinopharm stock"
   ]
  },
  {
   "cell_type": "code",
   "execution_count": 6,
   "metadata": {},
   "outputs": [
    {
     "name": "stdout",
     "output_type": "stream",
     "text": [
      "[*********************100%***********************]  1 of 1 completed\n",
      "                                Open       High        Low      Close  Volume\n",
      "Datetime                                                                     \n",
      "2021-05-13 09:30:00+08:00  24.799999  25.100000  24.799999  24.950001       0\n",
      "2021-05-13 09:31:00+08:00  24.950001  25.200001  24.950001  25.200001   80000\n",
      "2021-05-13 09:32:00+08:00  25.100000  25.250000  25.100000  25.100000   48450\n",
      "2021-05-13 09:33:00+08:00  25.100000  25.100000  25.000000  25.000000   13200\n",
      "2021-05-13 09:34:00+08:00  25.000000  25.100000  25.000000  25.049999   20825\n",
      "...                              ...        ...        ...        ...     ...\n",
      "2021-05-24 15:40:00+08:00  25.450001  25.549999  25.450001  25.549999   21200\n",
      "2021-05-24 15:45:00+08:00  25.500000  25.600000  25.500000  25.500000   41200\n",
      "2021-05-24 15:46:00+08:00  25.500000  25.600000  25.450001  25.450001   21600\n",
      "2021-05-24 15:48:00+08:00  25.450001  25.549999  25.400000  25.400000  392000\n",
      "2021-05-24 15:49:35+08:00  25.350000  25.350000  25.350000  25.350000       0\n",
      "\n",
      "[2053 rows x 5 columns]\n"
     ]
    }
   ],
   "source": [
    "data2 = yf.download(  # or pdr.get_data_yahoo(...\n",
    "        # tickers list or string as well\n",
    "        tickers = \"1099.HK\",\n",
    "\n",
    "        # use \"period\" instead of start/end\n",
    "        # valid periods: 1d,5d,1mo,3mo,6mo,1y,2y,5y,10y,ytd,max\n",
    "        # (optional, default is '1mo')\n",
    "        period = \"7d\",\n",
    "\n",
    "        # fetch data by interval (including intraday if period < 60 days)\n",
    "        # valid intervals: 1m,2m,5m,15m,30m,60m,90m,1h,1d,5d,1wk,1mo,3mo\n",
    "        # (optional, default is '1d')\n",
    "        interval = \"1m\",\n",
    "\n",
    "        # group by ticker (to access via data['SPY'])\n",
    "        # (optional, default is 'column')\n",
    "        group_by = 'ticker',\n",
    "\n",
    "        # adjust all OHLC automatically\n",
    "        # (optional, default is False)\n",
    "        auto_adjust = True,\n",
    "\n",
    "        # download pre/post regular market hours data\n",
    "        # (optional, default is False)\n",
    "        prepost = False,\n",
    "\n",
    "        # use threads for mass downloading? (True/False/Integer)\n",
    "        # (optional, default is True)\n",
    "        threads = True,\n",
    "\n",
    "        # proxy URL scheme use use when downloading?\n",
    "        # (optional, default is None)\n",
    "        proxy = None\n",
    "    )\n",
    "\n",
    "print(data2)"
   ]
  },
  {
   "cell_type": "code",
   "execution_count": 7,
   "metadata": {},
   "outputs": [
    {
     "name": "stdout",
     "output_type": "stream",
     "text": [
      "                                Open       High        Low      Close  Volume\n",
      "Datetime                                                                     \n",
      "2021-05-13 09:30:00+08:00  24.799999  25.100000  24.799999  24.950001       0\n",
      "2021-05-13 09:31:00+08:00  24.950001  25.200001  24.950001  25.200001   80000\n",
      "2021-05-13 09:32:00+08:00  25.100000  25.250000  25.100000  25.100000   48450\n",
      "2021-05-13 09:33:00+08:00  25.100000  25.100000  25.000000  25.000000   13200\n",
      "2021-05-13 09:34:00+08:00  25.000000  25.100000  25.000000  25.049999   20825\n",
      "                                Open       High        Low      Close  Volume\n",
      "Datetime                                                                     \n",
      "2021-05-24 15:40:00+08:00  25.450001  25.549999  25.450001  25.549999   21200\n",
      "2021-05-24 15:45:00+08:00  25.500000  25.600000  25.500000  25.500000   41200\n",
      "2021-05-24 15:46:00+08:00  25.500000  25.600000  25.450001  25.450001   21600\n",
      "2021-05-24 15:48:00+08:00  25.450001  25.549999  25.400000  25.400000  392000\n",
      "2021-05-24 15:49:35+08:00  25.350000  25.350000  25.350000  25.350000       0\n"
     ]
    }
   ],
   "source": [
    "df2 = pd.DataFrame(data2)\n",
    "print(df2.head())\n",
    "print(df2.tail())"
   ]
  },
  {
   "cell_type": "markdown",
   "metadata": {},
   "source": [
    "### Write on csv \n",
    "\n",
    "Cambiare il nome del file, per evitare sovrascrittura.\n"
   ]
  },
  {
   "cell_type": "code",
   "execution_count": 8,
   "metadata": {},
   "outputs": [],
   "source": [
    "# Write on csv \n",
    "df2.to_csv(work_folder+'stock_Sinopharm_8.csv')"
   ]
  },
  {
   "cell_type": "markdown",
   "metadata": {},
   "source": [
    "# Sinovac stock"
   ]
  },
  {
   "cell_type": "code",
   "execution_count": 9,
   "metadata": {},
   "outputs": [
    {
     "name": "stdout",
     "output_type": "stream",
     "text": [
      "[*********************100%***********************]  1 of 1 completed\n",
      "\n",
      "1 Failed download:\n",
      "- SVA: No data found for this date range, symbol may be delisted\n",
      "Empty DataFrame\n",
      "Columns: [Open, High, Low, Close, Adj Close, Volume]\n",
      "Index: []\n"
     ]
    }
   ],
   "source": [
    "data3 = yf.download(  # or pdr.get_data_yahoo(...\n",
    "        # tickers list or string as well\n",
    "        tickers = \"SVA\",\n",
    "\n",
    "        # use \"period\" instead of start/end\n",
    "        # valid periods: 1d,5d,1mo,3mo,6mo,1y,2y,5y,10y,ytd,max\n",
    "        # (optional, default is '1mo')\n",
    "        period = \"7d\",\n",
    "\n",
    "        # fetch data by interval (including intraday if period < 60 days)\n",
    "        # valid intervals: 1m,2m,5m,15m,30m,60m,90m,1h,1d,5d,1wk,1mo,3mo\n",
    "        # (optional, default is '1d')\n",
    "        interval = \"1m\",\n",
    "\n",
    "        # group by ticker (to access via data['SPY'])\n",
    "        # (optional, default is 'column')\n",
    "        group_by = 'ticker',\n",
    "\n",
    "        # adjust all OHLC automatically\n",
    "        # (optional, default is False)\n",
    "        auto_adjust = True,\n",
    "\n",
    "        # download pre/post regular market hours data\n",
    "        # (optional, default is False)\n",
    "        prepost = False,\n",
    "\n",
    "        # use threads for mass downloading? (True/False/Integer)\n",
    "        # (optional, default is True)\n",
    "        threads = True,\n",
    "\n",
    "        # proxy URL scheme use use when downloading?\n",
    "        # (optional, default is None)\n",
    "        proxy = None\n",
    "    )\n",
    "\n",
    "print(data3)"
   ]
  },
  {
   "cell_type": "code",
   "execution_count": null,
   "metadata": {},
   "outputs": [],
   "source": [
    "df3 = pd.DataFrame(data3)\n",
    "print(df3.head())\n",
    "print(df3.tail())"
   ]
  },
  {
   "cell_type": "markdown",
   "metadata": {},
   "source": [
    "### Write on csv \n",
    "\n",
    "Cambiare il nome del file, per evitare sovrascrittura.\n"
   ]
  },
  {
   "cell_type": "code",
   "execution_count": null,
   "metadata": {},
   "outputs": [],
   "source": [
    "# Write on csv \n",
    "df3.to_csv(work_folder+'stock_Sinovac_1.csv')"
   ]
  },
  {
   "cell_type": "markdown",
   "metadata": {},
   "source": [
    "# Astrazenca stock"
   ]
  },
  {
   "cell_type": "code",
   "execution_count": 9,
   "metadata": {},
   "outputs": [
    {
     "name": "stdout",
     "output_type": "stream",
     "text": [
      "[*********************100%***********************]  1 of 1 completed\n",
      "                                Open       High        Low      Close  Volume\n",
      "Datetime                                                                     \n",
      "2021-05-13 09:30:00-04:00  54.459999  54.630001  54.459999  54.580002  819029\n",
      "2021-05-13 09:31:00-04:00  54.580002  54.580002  54.529999  54.549999   22438\n",
      "2021-05-13 09:32:00-04:00  54.560001  54.564999  54.490002  54.509998   18642\n",
      "2021-05-13 09:33:00-04:00  54.500000  54.540001  54.485001  54.525002   26249\n",
      "2021-05-13 09:34:00-04:00  54.529999  54.549999  54.520000  54.544998   17948\n",
      "...                              ...        ...        ...        ...     ...\n",
      "2021-05-21 15:55:00-04:00  57.375000  57.410000  57.375000  57.389999   74352\n",
      "2021-05-21 15:56:00-04:00  57.395000  57.395000  57.360001  57.384998   53605\n",
      "2021-05-21 15:57:00-04:00  57.380001  57.389999  57.380001  57.389999   33313\n",
      "2021-05-21 15:58:00-04:00  57.389999  57.400002  57.384998  57.394199   39357\n",
      "2021-05-21 15:59:00-04:00  57.400002  57.419998  57.389999  57.419998  131986\n",
      "\n",
      "[2723 rows x 5 columns]\n"
     ]
    }
   ],
   "source": [
    "data4 = yf.download(  # or pdr.get_data_yahoo(...\n",
    "        # tickers list or string as well\n",
    "        tickers = \"AZN\",\n",
    "\n",
    "        # use \"period\" instead of start/end\n",
    "        # valid periods: 1d,5d,1mo,3mo,6mo,1y,2y,5y,10y,ytd,max\n",
    "        # (optional, default is '1mo')\n",
    "        period = \"7d\",\n",
    "\n",
    "        # fetch data by interval (including intraday if period < 60 days)\n",
    "        # valid intervals: 1m,2m,5m,15m,30m,60m,90m,1h,1d,5d,1wk,1mo,3mo\n",
    "        # (optional, default is '1d')\n",
    "        interval = \"1m\",\n",
    "\n",
    "        # group by ticker (to access via data['SPY'])\n",
    "        # (optional, default is 'column')\n",
    "        group_by = 'ticker',\n",
    "\n",
    "        # adjust all OHLC automatically\n",
    "        # (optional, default is False)\n",
    "        auto_adjust = True,\n",
    "\n",
    "        # download pre/post regular market hours data\n",
    "        # (optional, default is False)\n",
    "        prepost = False,\n",
    "\n",
    "        # use threads for mass downloading? (True/False/Integer)\n",
    "        # (optional, default is True)\n",
    "        threads = True,\n",
    "\n",
    "        # proxy URL scheme use use when downloading?\n",
    "        # (optional, default is None)\n",
    "        proxy = None\n",
    "    )\n",
    "\n",
    "print(data4)"
   ]
  },
  {
   "cell_type": "code",
   "execution_count": 10,
   "metadata": {},
   "outputs": [
    {
     "name": "stdout",
     "output_type": "stream",
     "text": [
      "                                Open       High        Low      Close  Volume\n",
      "Datetime                                                                     \n",
      "2021-05-13 09:30:00-04:00  54.459999  54.630001  54.459999  54.580002  819029\n",
      "2021-05-13 09:31:00-04:00  54.580002  54.580002  54.529999  54.549999   22438\n",
      "2021-05-13 09:32:00-04:00  54.560001  54.564999  54.490002  54.509998   18642\n",
      "2021-05-13 09:33:00-04:00  54.500000  54.540001  54.485001  54.525002   26249\n",
      "2021-05-13 09:34:00-04:00  54.529999  54.549999  54.520000  54.544998   17948\n",
      "                                Open       High        Low      Close  Volume\n",
      "Datetime                                                                     \n",
      "2021-05-21 15:55:00-04:00  57.375000  57.410000  57.375000  57.389999   74352\n",
      "2021-05-21 15:56:00-04:00  57.395000  57.395000  57.360001  57.384998   53605\n",
      "2021-05-21 15:57:00-04:00  57.380001  57.389999  57.380001  57.389999   33313\n",
      "2021-05-21 15:58:00-04:00  57.389999  57.400002  57.384998  57.394199   39357\n",
      "2021-05-21 15:59:00-04:00  57.400002  57.419998  57.389999  57.419998  131986\n"
     ]
    }
   ],
   "source": [
    "df4 = pd.DataFrame(data4)\n",
    "print(df4.head())\n",
    "print(df4.tail())"
   ]
  },
  {
   "cell_type": "markdown",
   "metadata": {},
   "source": [
    "### Write on csv \n",
    "\n",
    "Cambiare il nome del file, per evitare sovrascrittura.\n"
   ]
  },
  {
   "cell_type": "code",
   "execution_count": 11,
   "metadata": {},
   "outputs": [],
   "source": [
    "# Write on csv \n",
    "df4.to_csv(work_folder+'stock_Astrazeneca_7.csv')"
   ]
  }
 ],
 "metadata": {
  "kernelspec": {
   "display_name": "Python 3",
   "language": "python",
   "name": "python3"
  },
  "language_info": {
   "codemirror_mode": {
    "name": "ipython",
    "version": 3
   },
   "file_extension": ".py",
   "mimetype": "text/x-python",
   "name": "python",
   "nbconvert_exporter": "python",
   "pygments_lexer": "ipython3",
   "version": "3.7.5"
  }
 },
 "nbformat": 4,
 "nbformat_minor": 4
}
