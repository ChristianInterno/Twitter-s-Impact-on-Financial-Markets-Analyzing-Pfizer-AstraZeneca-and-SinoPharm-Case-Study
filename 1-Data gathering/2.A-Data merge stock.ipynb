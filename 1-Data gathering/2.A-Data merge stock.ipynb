{
 "cells": [
  {
   "cell_type": "markdown",
   "metadata": {},
   "source": [
    "# Setup"
   ]
  },
  {
   "cell_type": "code",
   "execution_count": 1,
   "metadata": {},
   "outputs": [],
   "source": [
    "import pandas as pd\n",
    "import os\n",
    "import datetime\n",
    "import matplotlib.pyplot as plt"
   ]
  },
  {
   "cell_type": "markdown",
   "metadata": {},
   "source": [
    "# Import data"
   ]
  },
  {
   "cell_type": "code",
   "execution_count": 2,
   "metadata": {},
   "outputs": [],
   "source": [
    "os.chdir(os.getcwd())\n",
    "work_folder = \"C:\\\\Users\\\\Utente\\\\Esercitazioni DataMan\\\\Dm_project\\\\Scripts\\\\DataMan_project\\\\Data stock\\\\\""
   ]
  },
  {
   "cell_type": "code",
   "execution_count": 3,
   "metadata": {},
   "outputs": [],
   "source": [
    "df_astra=pd.DataFrame()\n",
    "df_pfe=pd.DataFrame()\n",
    "df_sino=pd.DataFrame()\n",
    "\n",
    "for f in sorted(os.listdir(work_folder)):\n",
    "        if f.endswith('.csv'):\n",
    "            \n",
    "            if f.split('_')[1]=='Astrazeneca':\n",
    "                file1 = pd.read_csv(work_folder+f)\n",
    "                df_astra=pd.concat([df_astra, file1])\n",
    "\n",
    "            elif f.split('_')[1]=='PFE':\n",
    "                file2 = pd.read_csv(work_folder+f)\n",
    "                df_pfe=pd.concat([df_pfe, file2])\n",
    "                \n",
    "            else:\n",
    "                file3 = pd.read_csv(work_folder+f)\n",
    "                df_sino=pd.concat([df_sino, file3])"
   ]
  },
  {
   "cell_type": "code",
   "execution_count": 4,
   "metadata": {},
   "outputs": [
    {
     "name": "stdout",
     "output_type": "stream",
     "text": [
      "               Open          High           Low         Close        Volume\n",
      "count  18934.000000  18934.000000  18934.000000  18934.000000  1.893400e+04\n",
      "mean      53.084671     53.097353     53.071924     53.084840  2.394199e+04\n",
      "std        2.019868      2.020015      2.019941      2.020160  6.081098e+04\n",
      "min       48.965000     48.974998     48.959999     48.965000  0.000000e+00\n",
      "25%       52.090000     52.105000     52.080002     52.090000  6.451250e+03\n",
      "50%       52.970001     52.985001     52.959999     52.970001  1.248100e+04\n",
      "75%       54.580002     54.590000     54.573299     54.584999  2.463350e+04\n",
      "max       57.709999     57.730000     57.619999     57.695000  3.201329e+06\n",
      "               Open          High           Low         Close        Volume\n",
      "count  21659.000000  21659.000000  21659.000000  21659.000000  2.165900e+04\n",
      "mean      38.642713     38.655344     38.630273     38.643048  6.339272e+04\n",
      "std        1.348632      1.349947      1.347252      1.348476  1.268232e+05\n",
      "min       35.769001     35.779900     35.759998     35.765701  0.000000e+00\n",
      "25%       37.696201     37.700001     37.689999     37.696499  2.329200e+04\n",
      "50%       38.740002     38.750000     38.722801     38.740002  3.934900e+04\n",
      "75%       39.759998     39.770000     39.740002     39.759850  6.757500e+04\n",
      "max       41.080002     41.090000     41.049999     41.080002  6.688066e+06\n",
      "               Open          High           Low         Close        Volume\n",
      "count  17543.000000  17543.000000  17543.000000  17543.000000  1.754300e+04\n",
      "mean      23.679843     23.704539     23.656045     23.682288  4.532117e+04\n",
      "std        2.151498      2.155452      2.147078      2.151144  1.071952e+05\n",
      "min       18.740000     18.740000     18.719999     18.740000  0.000000e+00\n",
      "25%       22.200001     22.200001     22.150000     22.200001  4.800000e+03\n",
      "50%       24.100000     24.100000     24.049999     24.100000  1.480000e+04\n",
      "75%       25.549999     25.549999     25.549999     25.549999  4.200000e+04\n",
      "max       27.450001     27.600000     27.200001     27.450001  2.490400e+06\n"
     ]
    }
   ],
   "source": [
    "print(df_astra.describe())\n",
    "print(df_pfe.describe())\n",
    "print(df_sino.describe())"
   ]
  },
  {
   "cell_type": "markdown",
   "metadata": {},
   "source": [
    "# Preprocessing"
   ]
  },
  {
   "cell_type": "code",
   "execution_count": 5,
   "metadata": {},
   "outputs": [
    {
     "data": {
      "text/html": [
       "<div>\n",
       "<style scoped>\n",
       "    .dataframe tbody tr th:only-of-type {\n",
       "        vertical-align: middle;\n",
       "    }\n",
       "\n",
       "    .dataframe tbody tr th {\n",
       "        vertical-align: top;\n",
       "    }\n",
       "\n",
       "    .dataframe thead th {\n",
       "        text-align: right;\n",
       "    }\n",
       "</style>\n",
       "<table border=\"1\" class=\"dataframe\">\n",
       "  <thead>\n",
       "    <tr style=\"text-align: right;\">\n",
       "      <th></th>\n",
       "      <th>Datetime</th>\n",
       "      <th>Open</th>\n",
       "      <th>High</th>\n",
       "      <th>Low</th>\n",
       "      <th>Close</th>\n",
       "      <th>Volume</th>\n",
       "    </tr>\n",
       "  </thead>\n",
       "  <tbody>\n",
       "    <tr>\n",
       "      <th>0</th>\n",
       "      <td>2021-03-31 09:30:00+08:00</td>\n",
       "      <td>18.920000</td>\n",
       "      <td>18.920000</td>\n",
       "      <td>18.799999</td>\n",
       "      <td>18.840000</td>\n",
       "      <td>0</td>\n",
       "    </tr>\n",
       "    <tr>\n",
       "      <th>1</th>\n",
       "      <td>2021-03-31 09:31:00+08:00</td>\n",
       "      <td>18.820000</td>\n",
       "      <td>18.879999</td>\n",
       "      <td>18.799999</td>\n",
       "      <td>18.879999</td>\n",
       "      <td>32800</td>\n",
       "    </tr>\n",
       "    <tr>\n",
       "      <th>2</th>\n",
       "      <td>2021-03-31 09:32:00+08:00</td>\n",
       "      <td>18.840000</td>\n",
       "      <td>18.879999</td>\n",
       "      <td>18.820000</td>\n",
       "      <td>18.820000</td>\n",
       "      <td>93200</td>\n",
       "    </tr>\n",
       "    <tr>\n",
       "      <th>3</th>\n",
       "      <td>2021-03-31 09:33:00+08:00</td>\n",
       "      <td>18.799999</td>\n",
       "      <td>18.820000</td>\n",
       "      <td>18.719999</td>\n",
       "      <td>18.740000</td>\n",
       "      <td>144800</td>\n",
       "    </tr>\n",
       "    <tr>\n",
       "      <th>4</th>\n",
       "      <td>2021-03-31 09:34:00+08:00</td>\n",
       "      <td>18.740000</td>\n",
       "      <td>18.760000</td>\n",
       "      <td>18.719999</td>\n",
       "      <td>18.760000</td>\n",
       "      <td>24000</td>\n",
       "    </tr>\n",
       "  </tbody>\n",
       "</table>\n",
       "</div>"
      ],
      "text/plain": [
       "                    Datetime       Open       High        Low      Close  \\\n",
       "0  2021-03-31 09:30:00+08:00  18.920000  18.920000  18.799999  18.840000   \n",
       "1  2021-03-31 09:31:00+08:00  18.820000  18.879999  18.799999  18.879999   \n",
       "2  2021-03-31 09:32:00+08:00  18.840000  18.879999  18.820000  18.820000   \n",
       "3  2021-03-31 09:33:00+08:00  18.799999  18.820000  18.719999  18.740000   \n",
       "4  2021-03-31 09:34:00+08:00  18.740000  18.760000  18.719999  18.760000   \n",
       "\n",
       "   Volume  \n",
       "0       0  \n",
       "1   32800  \n",
       "2   93200  \n",
       "3  144800  \n",
       "4   24000  "
      ]
     },
     "execution_count": 5,
     "metadata": {},
     "output_type": "execute_result"
    }
   ],
   "source": [
    "df_sino.head()"
   ]
  },
  {
   "cell_type": "code",
   "execution_count": 6,
   "metadata": {},
   "outputs": [
    {
     "data": {
      "text/html": [
       "<div>\n",
       "<style scoped>\n",
       "    .dataframe tbody tr th:only-of-type {\n",
       "        vertical-align: middle;\n",
       "    }\n",
       "\n",
       "    .dataframe tbody tr th {\n",
       "        vertical-align: top;\n",
       "    }\n",
       "\n",
       "    .dataframe thead th {\n",
       "        text-align: right;\n",
       "    }\n",
       "</style>\n",
       "<table border=\"1\" class=\"dataframe\">\n",
       "  <thead>\n",
       "    <tr style=\"text-align: right;\">\n",
       "      <th></th>\n",
       "      <th>Datetime</th>\n",
       "      <th>Open</th>\n",
       "      <th>High</th>\n",
       "      <th>Low</th>\n",
       "      <th>Close</th>\n",
       "      <th>Volume</th>\n",
       "    </tr>\n",
       "  </thead>\n",
       "  <tbody>\n",
       "    <tr>\n",
       "      <th>2048</th>\n",
       "      <td>2021-05-24 15:40:00+08:00</td>\n",
       "      <td>25.450001</td>\n",
       "      <td>25.549999</td>\n",
       "      <td>25.450001</td>\n",
       "      <td>25.549999</td>\n",
       "      <td>21200</td>\n",
       "    </tr>\n",
       "    <tr>\n",
       "      <th>2049</th>\n",
       "      <td>2021-05-24 15:45:00+08:00</td>\n",
       "      <td>25.500000</td>\n",
       "      <td>25.600000</td>\n",
       "      <td>25.500000</td>\n",
       "      <td>25.500000</td>\n",
       "      <td>41200</td>\n",
       "    </tr>\n",
       "    <tr>\n",
       "      <th>2050</th>\n",
       "      <td>2021-05-24 15:46:00+08:00</td>\n",
       "      <td>25.500000</td>\n",
       "      <td>25.600000</td>\n",
       "      <td>25.450001</td>\n",
       "      <td>25.450001</td>\n",
       "      <td>21600</td>\n",
       "    </tr>\n",
       "    <tr>\n",
       "      <th>2051</th>\n",
       "      <td>2021-05-24 15:48:00+08:00</td>\n",
       "      <td>25.450001</td>\n",
       "      <td>25.549999</td>\n",
       "      <td>25.400000</td>\n",
       "      <td>25.400000</td>\n",
       "      <td>392000</td>\n",
       "    </tr>\n",
       "    <tr>\n",
       "      <th>2052</th>\n",
       "      <td>2021-05-24 15:49:35+08:00</td>\n",
       "      <td>25.350000</td>\n",
       "      <td>25.350000</td>\n",
       "      <td>25.350000</td>\n",
       "      <td>25.350000</td>\n",
       "      <td>0</td>\n",
       "    </tr>\n",
       "  </tbody>\n",
       "</table>\n",
       "</div>"
      ],
      "text/plain": [
       "                       Datetime       Open       High        Low      Close  \\\n",
       "2048  2021-05-24 15:40:00+08:00  25.450001  25.549999  25.450001  25.549999   \n",
       "2049  2021-05-24 15:45:00+08:00  25.500000  25.600000  25.500000  25.500000   \n",
       "2050  2021-05-24 15:46:00+08:00  25.500000  25.600000  25.450001  25.450001   \n",
       "2051  2021-05-24 15:48:00+08:00  25.450001  25.549999  25.400000  25.400000   \n",
       "2052  2021-05-24 15:49:35+08:00  25.350000  25.350000  25.350000  25.350000   \n",
       "\n",
       "      Volume  \n",
       "2048   21200  \n",
       "2049   41200  \n",
       "2050   21600  \n",
       "2051  392000  \n",
       "2052       0  "
      ]
     },
     "execution_count": 6,
     "metadata": {},
     "output_type": "execute_result"
    }
   ],
   "source": [
    "df_sino.tail()"
   ]
  },
  {
   "cell_type": "code",
   "execution_count": 7,
   "metadata": {},
   "outputs": [
    {
     "name": "stdout",
     "output_type": "stream",
     "text": [
      "<class 'pandas.core.frame.DataFrame'>\n",
      "Int64Index: 18934 entries, 0 to 2722\n",
      "Data columns (total 6 columns):\n",
      " #   Column    Non-Null Count  Dtype  \n",
      "---  ------    --------------  -----  \n",
      " 0   Datetime  18934 non-null  object \n",
      " 1   Open      18934 non-null  float64\n",
      " 2   High      18934 non-null  float64\n",
      " 3   Low       18934 non-null  float64\n",
      " 4   Close     18934 non-null  float64\n",
      " 5   Volume    18934 non-null  int64  \n",
      "dtypes: float64(4), int64(1), object(1)\n",
      "memory usage: 1.0+ MB\n"
     ]
    }
   ],
   "source": [
    "df_astra.info()"
   ]
  },
  {
   "cell_type": "code",
   "execution_count": 8,
   "metadata": {},
   "outputs": [
    {
     "name": "stdout",
     "output_type": "stream",
     "text": [
      "<class 'pandas.core.frame.DataFrame'>\n",
      "Int64Index: 21659 entries, 0 to 2722\n",
      "Data columns (total 6 columns):\n",
      " #   Column    Non-Null Count  Dtype  \n",
      "---  ------    --------------  -----  \n",
      " 0   Datetime  21659 non-null  object \n",
      " 1   Open      21659 non-null  float64\n",
      " 2   High      21659 non-null  float64\n",
      " 3   Low       21659 non-null  float64\n",
      " 4   Close     21659 non-null  float64\n",
      " 5   Volume    21659 non-null  int64  \n",
      "dtypes: float64(4), int64(1), object(1)\n",
      "memory usage: 1.2+ MB\n"
     ]
    }
   ],
   "source": [
    "df_pfe.info()"
   ]
  },
  {
   "cell_type": "code",
   "execution_count": 9,
   "metadata": {},
   "outputs": [
    {
     "name": "stdout",
     "output_type": "stream",
     "text": [
      "<class 'pandas.core.frame.DataFrame'>\n",
      "Int64Index: 17543 entries, 0 to 2052\n",
      "Data columns (total 6 columns):\n",
      " #   Column    Non-Null Count  Dtype  \n",
      "---  ------    --------------  -----  \n",
      " 0   Datetime  17543 non-null  object \n",
      " 1   Open      17543 non-null  float64\n",
      " 2   High      17543 non-null  float64\n",
      " 3   Low       17543 non-null  float64\n",
      " 4   Close     17543 non-null  float64\n",
      " 5   Volume    17543 non-null  int64  \n",
      "dtypes: float64(4), int64(1), object(1)\n",
      "memory usage: 959.4+ KB\n"
     ]
    }
   ],
   "source": [
    "df_sino.info()"
   ]
  },
  {
   "cell_type": "code",
   "execution_count": 10,
   "metadata": {},
   "outputs": [
    {
     "name": "stdout",
     "output_type": "stream",
     "text": [
      "Are there duplicates for Astrazenca? True\n",
      "Are there duplicates for Pfizer? True\n",
      "Are there duplicates for Sinopharm? True\n"
     ]
    }
   ],
   "source": [
    "print('Are there duplicates for Astrazenca?', df_astra['Datetime'].nunique()!=df_astra.shape[0])\n",
    "print('Are there duplicates for Pfizer?', df_pfe['Datetime'].nunique()!=df_pfe.shape[0])\n",
    "print('Are there duplicates for Sinopharm?', df_sino['Datetime'].nunique()!=df_sino.shape[0])"
   ]
  },
  {
   "cell_type": "code",
   "execution_count": 14,
   "metadata": {},
   "outputs": [
    {
     "name": "stdout",
     "output_type": "stream",
     "text": [
      "Are there duplicates for Astrazenca? False\n",
      "Are there duplicates for Pfizer? False\n",
      "Are there duplicates for Sinopharm? False\n"
     ]
    }
   ],
   "source": [
    "df_astra = df_astra.drop_duplicates(subset='Datetime', keep=\"last\")\n",
    "df_pfe = df_pfe.drop_duplicates(subset='Datetime', keep=\"last\")\n",
    "df_sino = df_sino.drop_duplicates(subset='Datetime', keep=\"last\")\n",
    "print('Are there duplicates for Astrazenca?', df_astra['Datetime'].nunique()!=df_astra.shape[0])\n",
    "print('Are there duplicates for Pfizer?', df_pfe['Datetime'].nunique()!=df_pfe.shape[0])\n",
    "print('Are there duplicates for Sinopharm?', df_sino['Datetime'].nunique()!=df_sino.shape[0])"
   ]
  },
  {
   "cell_type": "code",
   "execution_count": 18,
   "metadata": {},
   "outputs": [
    {
     "data": {
      "text/plain": [
       "10932"
      ]
     },
     "execution_count": 18,
     "metadata": {},
     "output_type": "execute_result"
    }
   ],
   "source": [
    "df_sino['Datetime'].nunique()"
   ]
  },
  {
   "cell_type": "code",
   "execution_count": 19,
   "metadata": {},
   "outputs": [
    {
     "data": {
      "text/plain": [
       "10932"
      ]
     },
     "execution_count": 19,
     "metadata": {},
     "output_type": "execute_result"
    }
   ],
   "source": [
    "df_sino.shape[0]"
   ]
  },
  {
   "cell_type": "code",
   "execution_count": 20,
   "metadata": {},
   "outputs": [
    {
     "name": "stdout",
     "output_type": "stream",
     "text": [
      "<class 'pandas.core.frame.DataFrame'>\n",
      "Int64Index: 10932 entries, 0 to 2052\n",
      "Data columns (total 6 columns):\n",
      " #   Column    Non-Null Count  Dtype  \n",
      "---  ------    --------------  -----  \n",
      " 0   Datetime  10932 non-null  object \n",
      " 1   Open      10932 non-null  float64\n",
      " 2   High      10932 non-null  float64\n",
      " 3   Low       10932 non-null  float64\n",
      " 4   Close     10932 non-null  float64\n",
      " 5   Volume    10932 non-null  int64  \n",
      "dtypes: float64(4), int64(1), object(1)\n",
      "memory usage: 597.8+ KB\n"
     ]
    }
   ],
   "source": [
    "df_sino.info()"
   ]
  },
  {
   "cell_type": "code",
   "execution_count": 21,
   "metadata": {},
   "outputs": [
    {
     "data": {
      "text/html": [
       "<div>\n",
       "<style scoped>\n",
       "    .dataframe tbody tr th:only-of-type {\n",
       "        vertical-align: middle;\n",
       "    }\n",
       "\n",
       "    .dataframe tbody tr th {\n",
       "        vertical-align: top;\n",
       "    }\n",
       "\n",
       "    .dataframe thead th {\n",
       "        text-align: right;\n",
       "    }\n",
       "</style>\n",
       "<table border=\"1\" class=\"dataframe\">\n",
       "  <thead>\n",
       "    <tr style=\"text-align: right;\">\n",
       "      <th></th>\n",
       "      <th>Open</th>\n",
       "      <th>High</th>\n",
       "      <th>Low</th>\n",
       "      <th>Close</th>\n",
       "      <th>Volume</th>\n",
       "    </tr>\n",
       "  </thead>\n",
       "  <tbody>\n",
       "    <tr>\n",
       "      <th>count</th>\n",
       "      <td>10932.000000</td>\n",
       "      <td>10932.000000</td>\n",
       "      <td>10932.000000</td>\n",
       "      <td>10932.000000</td>\n",
       "      <td>1.093200e+04</td>\n",
       "    </tr>\n",
       "    <tr>\n",
       "      <th>mean</th>\n",
       "      <td>23.571577</td>\n",
       "      <td>23.596022</td>\n",
       "      <td>23.547699</td>\n",
       "      <td>23.573809</td>\n",
       "      <td>4.552315e+04</td>\n",
       "    </tr>\n",
       "    <tr>\n",
       "      <th>std</th>\n",
       "      <td>2.299605</td>\n",
       "      <td>2.303941</td>\n",
       "      <td>2.294489</td>\n",
       "      <td>2.299289</td>\n",
       "      <td>1.082453e+05</td>\n",
       "    </tr>\n",
       "    <tr>\n",
       "      <th>min</th>\n",
       "      <td>18.740000</td>\n",
       "      <td>18.740000</td>\n",
       "      <td>18.719999</td>\n",
       "      <td>18.740000</td>\n",
       "      <td>0.000000e+00</td>\n",
       "    </tr>\n",
       "    <tr>\n",
       "      <th>25%</th>\n",
       "      <td>22.049999</td>\n",
       "      <td>22.049999</td>\n",
       "      <td>22.000000</td>\n",
       "      <td>22.049999</td>\n",
       "      <td>4.800000e+03</td>\n",
       "    </tr>\n",
       "    <tr>\n",
       "      <th>50%</th>\n",
       "      <td>24.100000</td>\n",
       "      <td>24.100000</td>\n",
       "      <td>24.049999</td>\n",
       "      <td>24.100000</td>\n",
       "      <td>1.480000e+04</td>\n",
       "    </tr>\n",
       "    <tr>\n",
       "      <th>75%</th>\n",
       "      <td>25.549999</td>\n",
       "      <td>25.600000</td>\n",
       "      <td>25.549999</td>\n",
       "      <td>25.549999</td>\n",
       "      <td>4.240000e+04</td>\n",
       "    </tr>\n",
       "    <tr>\n",
       "      <th>max</th>\n",
       "      <td>27.450001</td>\n",
       "      <td>27.600000</td>\n",
       "      <td>27.200001</td>\n",
       "      <td>27.450001</td>\n",
       "      <td>2.490400e+06</td>\n",
       "    </tr>\n",
       "  </tbody>\n",
       "</table>\n",
       "</div>"
      ],
      "text/plain": [
       "               Open          High           Low         Close        Volume\n",
       "count  10932.000000  10932.000000  10932.000000  10932.000000  1.093200e+04\n",
       "mean      23.571577     23.596022     23.547699     23.573809  4.552315e+04\n",
       "std        2.299605      2.303941      2.294489      2.299289  1.082453e+05\n",
       "min       18.740000     18.740000     18.719999     18.740000  0.000000e+00\n",
       "25%       22.049999     22.049999     22.000000     22.049999  4.800000e+03\n",
       "50%       24.100000     24.100000     24.049999     24.100000  1.480000e+04\n",
       "75%       25.549999     25.600000     25.549999     25.549999  4.240000e+04\n",
       "max       27.450001     27.600000     27.200001     27.450001  2.490400e+06"
      ]
     },
     "execution_count": 21,
     "metadata": {},
     "output_type": "execute_result"
    }
   ],
   "source": [
    "df_sino.describe()"
   ]
  },
  {
   "cell_type": "code",
   "execution_count": 22,
   "metadata": {},
   "outputs": [
    {
     "data": {
      "text/html": [
       "<div>\n",
       "<style scoped>\n",
       "    .dataframe tbody tr th:only-of-type {\n",
       "        vertical-align: middle;\n",
       "    }\n",
       "\n",
       "    .dataframe tbody tr th {\n",
       "        vertical-align: top;\n",
       "    }\n",
       "\n",
       "    .dataframe thead th {\n",
       "        text-align: right;\n",
       "    }\n",
       "</style>\n",
       "<table border=\"1\" class=\"dataframe\">\n",
       "  <thead>\n",
       "    <tr style=\"text-align: right;\">\n",
       "      <th></th>\n",
       "      <th>Datetime</th>\n",
       "      <th>Open</th>\n",
       "      <th>High</th>\n",
       "      <th>Low</th>\n",
       "      <th>Close</th>\n",
       "      <th>Volume</th>\n",
       "    </tr>\n",
       "  </thead>\n",
       "  <tbody>\n",
       "    <tr>\n",
       "      <th>0</th>\n",
       "      <td>2021-03-31 09:30:00+08:00</td>\n",
       "      <td>18.920000</td>\n",
       "      <td>18.920000</td>\n",
       "      <td>18.799999</td>\n",
       "      <td>18.840000</td>\n",
       "      <td>0</td>\n",
       "    </tr>\n",
       "    <tr>\n",
       "      <th>1</th>\n",
       "      <td>2021-03-31 09:31:00+08:00</td>\n",
       "      <td>18.820000</td>\n",
       "      <td>18.879999</td>\n",
       "      <td>18.799999</td>\n",
       "      <td>18.879999</td>\n",
       "      <td>32800</td>\n",
       "    </tr>\n",
       "    <tr>\n",
       "      <th>2</th>\n",
       "      <td>2021-03-31 09:32:00+08:00</td>\n",
       "      <td>18.840000</td>\n",
       "      <td>18.879999</td>\n",
       "      <td>18.820000</td>\n",
       "      <td>18.820000</td>\n",
       "      <td>93200</td>\n",
       "    </tr>\n",
       "    <tr>\n",
       "      <th>3</th>\n",
       "      <td>2021-03-31 09:33:00+08:00</td>\n",
       "      <td>18.799999</td>\n",
       "      <td>18.820000</td>\n",
       "      <td>18.719999</td>\n",
       "      <td>18.740000</td>\n",
       "      <td>144800</td>\n",
       "    </tr>\n",
       "    <tr>\n",
       "      <th>4</th>\n",
       "      <td>2021-03-31 09:34:00+08:00</td>\n",
       "      <td>18.740000</td>\n",
       "      <td>18.760000</td>\n",
       "      <td>18.719999</td>\n",
       "      <td>18.760000</td>\n",
       "      <td>24000</td>\n",
       "    </tr>\n",
       "    <tr>\n",
       "      <th>...</th>\n",
       "      <td>...</td>\n",
       "      <td>...</td>\n",
       "      <td>...</td>\n",
       "      <td>...</td>\n",
       "      <td>...</td>\n",
       "      <td>...</td>\n",
       "    </tr>\n",
       "    <tr>\n",
       "      <th>2048</th>\n",
       "      <td>2021-05-24 15:40:00+08:00</td>\n",
       "      <td>25.450001</td>\n",
       "      <td>25.549999</td>\n",
       "      <td>25.450001</td>\n",
       "      <td>25.549999</td>\n",
       "      <td>21200</td>\n",
       "    </tr>\n",
       "    <tr>\n",
       "      <th>2049</th>\n",
       "      <td>2021-05-24 15:45:00+08:00</td>\n",
       "      <td>25.500000</td>\n",
       "      <td>25.600000</td>\n",
       "      <td>25.500000</td>\n",
       "      <td>25.500000</td>\n",
       "      <td>41200</td>\n",
       "    </tr>\n",
       "    <tr>\n",
       "      <th>2050</th>\n",
       "      <td>2021-05-24 15:46:00+08:00</td>\n",
       "      <td>25.500000</td>\n",
       "      <td>25.600000</td>\n",
       "      <td>25.450001</td>\n",
       "      <td>25.450001</td>\n",
       "      <td>21600</td>\n",
       "    </tr>\n",
       "    <tr>\n",
       "      <th>2051</th>\n",
       "      <td>2021-05-24 15:48:00+08:00</td>\n",
       "      <td>25.450001</td>\n",
       "      <td>25.549999</td>\n",
       "      <td>25.400000</td>\n",
       "      <td>25.400000</td>\n",
       "      <td>392000</td>\n",
       "    </tr>\n",
       "    <tr>\n",
       "      <th>2052</th>\n",
       "      <td>2021-05-24 15:49:35+08:00</td>\n",
       "      <td>25.350000</td>\n",
       "      <td>25.350000</td>\n",
       "      <td>25.350000</td>\n",
       "      <td>25.350000</td>\n",
       "      <td>0</td>\n",
       "    </tr>\n",
       "  </tbody>\n",
       "</table>\n",
       "<p>10932 rows × 6 columns</p>\n",
       "</div>"
      ],
      "text/plain": [
       "                       Datetime       Open       High        Low      Close  \\\n",
       "0     2021-03-31 09:30:00+08:00  18.920000  18.920000  18.799999  18.840000   \n",
       "1     2021-03-31 09:31:00+08:00  18.820000  18.879999  18.799999  18.879999   \n",
       "2     2021-03-31 09:32:00+08:00  18.840000  18.879999  18.820000  18.820000   \n",
       "3     2021-03-31 09:33:00+08:00  18.799999  18.820000  18.719999  18.740000   \n",
       "4     2021-03-31 09:34:00+08:00  18.740000  18.760000  18.719999  18.760000   \n",
       "...                         ...        ...        ...        ...        ...   \n",
       "2048  2021-05-24 15:40:00+08:00  25.450001  25.549999  25.450001  25.549999   \n",
       "2049  2021-05-24 15:45:00+08:00  25.500000  25.600000  25.500000  25.500000   \n",
       "2050  2021-05-24 15:46:00+08:00  25.500000  25.600000  25.450001  25.450001   \n",
       "2051  2021-05-24 15:48:00+08:00  25.450001  25.549999  25.400000  25.400000   \n",
       "2052  2021-05-24 15:49:35+08:00  25.350000  25.350000  25.350000  25.350000   \n",
       "\n",
       "      Volume  \n",
       "0          0  \n",
       "1      32800  \n",
       "2      93200  \n",
       "3     144800  \n",
       "4      24000  \n",
       "...      ...  \n",
       "2048   21200  \n",
       "2049   41200  \n",
       "2050   21600  \n",
       "2051  392000  \n",
       "2052       0  \n",
       "\n",
       "[10932 rows x 6 columns]"
      ]
     },
     "execution_count": 22,
     "metadata": {},
     "output_type": "execute_result"
    }
   ],
   "source": [
    "df_sino"
   ]
  },
  {
   "cell_type": "code",
   "execution_count": 23,
   "metadata": {},
   "outputs": [],
   "source": [
    "#r = pd.date_range(start=df_astra['Datetime'].min(), end=df_astra['Datetime'].max(), freq='T')\n",
    "df_astra.set_index('Datetime', inplace=True)\n",
    "#df_astra=df_astra.reindex(r)\n",
    "df_astra.index.rename('Datetime', inplace=True)\n",
    "\n",
    "#r = pd.date_range(start=df_pfe['Datetime'].min(), end=df_pfe['Datetime'].max(), freq='T')\n",
    "df_pfe.set_index('Datetime', inplace=True)\n",
    "#df_pfe=df_pfe.reindex(r)\n",
    "df_pfe.index.rename('Datetime', inplace=True)\n",
    "\n",
    "#r = pd.date_range(start=df_sino['Datetime'].min(), end=df_sino['Datetime'].max(), freq='T')\n",
    "df_sino.set_index('Datetime', inplace=True)\n",
    "#df_sino = df_sino[~df_sino.index.duplicated(keep='first')]\n",
    "#df_sino=df_sino.reindex(r)\n",
    "df_sino.index.rename('Datetime', inplace=True)"
   ]
  },
  {
   "cell_type": "code",
   "execution_count": 24,
   "metadata": {},
   "outputs": [
    {
     "name": "stdout",
     "output_type": "stream",
     "text": [
      "Index([], dtype='object', name='Datetime')\n",
      "Index([], dtype='object', name='Datetime')\n",
      "Index([], dtype='object', name='Datetime')\n"
     ]
    }
   ],
   "source": [
    "print(df_astra.index[df_astra['Close'].isnull()])\n",
    "print(df_pfe.index[df_pfe['Close'].isnull()])\n",
    "print(df_sino.index[df_sino['Close'].isnull()])"
   ]
  },
  {
   "cell_type": "code",
   "execution_count": 25,
   "metadata": {},
   "outputs": [
    {
     "data": {
      "text/html": [
       "<div>\n",
       "<style scoped>\n",
       "    .dataframe tbody tr th:only-of-type {\n",
       "        vertical-align: middle;\n",
       "    }\n",
       "\n",
       "    .dataframe tbody tr th {\n",
       "        vertical-align: top;\n",
       "    }\n",
       "\n",
       "    .dataframe thead th {\n",
       "        text-align: right;\n",
       "    }\n",
       "</style>\n",
       "<table border=\"1\" class=\"dataframe\">\n",
       "  <thead>\n",
       "    <tr style=\"text-align: right;\">\n",
       "      <th></th>\n",
       "      <th>Open</th>\n",
       "      <th>High</th>\n",
       "      <th>Low</th>\n",
       "      <th>Close</th>\n",
       "      <th>Volume</th>\n",
       "    </tr>\n",
       "    <tr>\n",
       "      <th>Datetime</th>\n",
       "      <th></th>\n",
       "      <th></th>\n",
       "      <th></th>\n",
       "      <th></th>\n",
       "      <th></th>\n",
       "    </tr>\n",
       "  </thead>\n",
       "  <tbody>\n",
       "    <tr>\n",
       "      <th>2021-04-01 09:30:00-04:00</th>\n",
       "      <td>36.299999</td>\n",
       "      <td>36.314999</td>\n",
       "      <td>36.209999</td>\n",
       "      <td>36.285000</td>\n",
       "      <td>868802</td>\n",
       "    </tr>\n",
       "    <tr>\n",
       "      <th>2021-04-01 09:31:00-04:00</th>\n",
       "      <td>36.285000</td>\n",
       "      <td>36.299900</td>\n",
       "      <td>36.134998</td>\n",
       "      <td>36.160000</td>\n",
       "      <td>188946</td>\n",
       "    </tr>\n",
       "    <tr>\n",
       "      <th>2021-04-01 09:32:00-04:00</th>\n",
       "      <td>36.169998</td>\n",
       "      <td>36.219299</td>\n",
       "      <td>36.154999</td>\n",
       "      <td>36.180000</td>\n",
       "      <td>121815</td>\n",
       "    </tr>\n",
       "    <tr>\n",
       "      <th>2021-04-01 09:33:00-04:00</th>\n",
       "      <td>36.180000</td>\n",
       "      <td>36.180099</td>\n",
       "      <td>36.111000</td>\n",
       "      <td>36.160000</td>\n",
       "      <td>176167</td>\n",
       "    </tr>\n",
       "    <tr>\n",
       "      <th>2021-04-01 09:34:00-04:00</th>\n",
       "      <td>36.165001</td>\n",
       "      <td>36.180000</td>\n",
       "      <td>36.020000</td>\n",
       "      <td>36.040600</td>\n",
       "      <td>232857</td>\n",
       "    </tr>\n",
       "    <tr>\n",
       "      <th>...</th>\n",
       "      <td>...</td>\n",
       "      <td>...</td>\n",
       "      <td>...</td>\n",
       "      <td>...</td>\n",
       "      <td>...</td>\n",
       "    </tr>\n",
       "    <tr>\n",
       "      <th>2021-05-21 15:55:00-04:00</th>\n",
       "      <td>40.040001</td>\n",
       "      <td>40.044998</td>\n",
       "      <td>39.990002</td>\n",
       "      <td>40.000000</td>\n",
       "      <td>468928</td>\n",
       "    </tr>\n",
       "    <tr>\n",
       "      <th>2021-05-21 15:56:00-04:00</th>\n",
       "      <td>40.000000</td>\n",
       "      <td>40.005001</td>\n",
       "      <td>39.950001</td>\n",
       "      <td>39.959999</td>\n",
       "      <td>241321</td>\n",
       "    </tr>\n",
       "    <tr>\n",
       "      <th>2021-05-21 15:57:00-04:00</th>\n",
       "      <td>39.955002</td>\n",
       "      <td>39.990002</td>\n",
       "      <td>39.955002</td>\n",
       "      <td>39.974998</td>\n",
       "      <td>244966</td>\n",
       "    </tr>\n",
       "    <tr>\n",
       "      <th>2021-05-21 15:58:00-04:00</th>\n",
       "      <td>39.974998</td>\n",
       "      <td>39.980000</td>\n",
       "      <td>39.950001</td>\n",
       "      <td>39.959999</td>\n",
       "      <td>216200</td>\n",
       "    </tr>\n",
       "    <tr>\n",
       "      <th>2021-05-21 15:59:00-04:00</th>\n",
       "      <td>39.955002</td>\n",
       "      <td>39.980000</td>\n",
       "      <td>39.910000</td>\n",
       "      <td>39.959999</td>\n",
       "      <td>788848</td>\n",
       "    </tr>\n",
       "  </tbody>\n",
       "</table>\n",
       "<p>14022 rows × 5 columns</p>\n",
       "</div>"
      ],
      "text/plain": [
       "                                Open       High        Low      Close  Volume\n",
       "Datetime                                                                     \n",
       "2021-04-01 09:30:00-04:00  36.299999  36.314999  36.209999  36.285000  868802\n",
       "2021-04-01 09:31:00-04:00  36.285000  36.299900  36.134998  36.160000  188946\n",
       "2021-04-01 09:32:00-04:00  36.169998  36.219299  36.154999  36.180000  121815\n",
       "2021-04-01 09:33:00-04:00  36.180000  36.180099  36.111000  36.160000  176167\n",
       "2021-04-01 09:34:00-04:00  36.165001  36.180000  36.020000  36.040600  232857\n",
       "...                              ...        ...        ...        ...     ...\n",
       "2021-05-21 15:55:00-04:00  40.040001  40.044998  39.990002  40.000000  468928\n",
       "2021-05-21 15:56:00-04:00  40.000000  40.005001  39.950001  39.959999  241321\n",
       "2021-05-21 15:57:00-04:00  39.955002  39.990002  39.955002  39.974998  244966\n",
       "2021-05-21 15:58:00-04:00  39.974998  39.980000  39.950001  39.959999  216200\n",
       "2021-05-21 15:59:00-04:00  39.955002  39.980000  39.910000  39.959999  788848\n",
       "\n",
       "[14022 rows x 5 columns]"
      ]
     },
     "execution_count": 25,
     "metadata": {},
     "output_type": "execute_result"
    }
   ],
   "source": [
    "df_pfe"
   ]
  },
  {
   "cell_type": "code",
   "execution_count": 20,
   "metadata": {},
   "outputs": [],
   "source": [
    "#df_astra[:500]"
   ]
  },
  {
   "cell_type": "markdown",
   "metadata": {},
   "source": [
    "# Save a period to integrate with tweet"
   ]
  },
  {
   "cell_type": "code",
   "execution_count": null,
   "metadata": {},
   "outputs": [],
   "source": [
    "# Prendere i dati dal 7 aprile in poi"
   ]
  },
  {
   "cell_type": "code",
   "execution_count": 27,
   "metadata": {},
   "outputs": [],
   "source": [
    "#from 8 aprile 30 aprile\n",
    "sino_period=df_sino.loc[\"2021-04-08 09:30:00+08:00\":\"2021-05-21 15:59:00+08:00\"]\n",
    "#from 8 aprile 30 aprile\n",
    "pfe_period=df_pfe.loc[\"2021-04-08 09:30:00-04:00\":\"2021-05-21 15:59:00-04:00\"]\n",
    "#from 8 aprile 30 aprile\n",
    "astra_period=df_astra.loc[\"2021-04-08 09:30:00-04:00\":\"2021-05-21 15:59:00-04:00\"]"
   ]
  },
  {
   "cell_type": "code",
   "execution_count": 28,
   "metadata": {},
   "outputs": [],
   "source": [
    "os.chdir(os.getcwd())\n",
    "work_folder = \"C:\\\\Users\\\\Utente\\\\Esercitazioni DataMan\\\\Dm_project\\\\Scripts\\\\DataMan_project\\\\Merge_stock\\\\\"\n",
    "sino_period.to_csv(work_folder+'df_sino.csv')"
   ]
  },
  {
   "cell_type": "code",
   "execution_count": 29,
   "metadata": {},
   "outputs": [],
   "source": [
    "os.chdir(os.getcwd())\n",
    "work_folder = \"C:\\\\Users\\\\Utente\\\\Esercitazioni DataMan\\\\Dm_project\\\\Scripts\\\\DataMan_project\\\\Merge_stock\\\\\"\n",
    "pfe_period.to_csv(work_folder+'df_pfe.csv')"
   ]
  },
  {
   "cell_type": "code",
   "execution_count": 30,
   "metadata": {},
   "outputs": [],
   "source": [
    "os.chdir(os.getcwd())\n",
    "work_folder = \"C:\\\\Users\\\\Utente\\\\Esercitazioni DataMan\\\\Dm_project\\\\Scripts\\\\DataMan_project\\\\Merge_stock\\\\\"\n",
    "astra_period.to_csv(work_folder+'df_astra.csv')"
   ]
  },
  {
   "cell_type": "code",
   "execution_count": null,
   "metadata": {},
   "outputs": [],
   "source": []
  },
  {
   "cell_type": "markdown",
   "metadata": {},
   "source": [
    "# Write complete and clean csv"
   ]
  },
  {
   "cell_type": "code",
   "execution_count": 31,
   "metadata": {},
   "outputs": [],
   "source": [
    "os.chdir(os.getcwd())\n",
    "work_folder = \"C:\\\\Users\\\\Utente\\\\Esercitazioni DataMan\\\\Dm_project\\\\Scripts\\\\DataMan_project\\\\Merge\\\\\""
   ]
  },
  {
   "cell_type": "code",
   "execution_count": 32,
   "metadata": {},
   "outputs": [],
   "source": [
    "df_astra.to_csv(work_folder+'df_astra.csv')\n",
    "df_pfe.to_csv(work_folder+'df_pfe.csv')\n",
    "df_sino.to_csv(work_folder+'df_sino.csv')"
   ]
  },
  {
   "cell_type": "code",
   "execution_count": null,
   "metadata": {},
   "outputs": [],
   "source": []
  }
 ],
 "metadata": {
  "kernelspec": {
   "display_name": "Python 3",
   "language": "python",
   "name": "python3"
  },
  "language_info": {
   "codemirror_mode": {
    "name": "ipython",
    "version": 3
   },
   "file_extension": ".py",
   "mimetype": "text/x-python",
   "name": "python",
   "nbconvert_exporter": "python",
   "pygments_lexer": "ipython3",
   "version": "3.7.5"
  }
 },
 "nbformat": 4,
 "nbformat_minor": 4
}
